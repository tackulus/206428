{
  "nbformat": 4,
  "nbformat_minor": 0,
  "metadata": {
    "colab": {
      "name": "Hill Cipher.ipynb",
      "provenance": [],
      "authorship_tag": "ABX9TyOib+L/c3ElyBBeF+B4cCEL"
    },
    "kernelspec": {
      "name": "python3",
      "display_name": "Python 3"
    }
  },
  "cells": [
    {
      "cell_type": "code",
      "metadata": {
        "id": "_RXsfmsKcPC5",
        "outputId": "5b43bd4f-7450-409c-cae9-760a6a607f1f",
        "colab": {
          "base_uri": "https://localhost:8080/"
        }
      },
      "source": [
        "import numpy as np\r\n",
        "\r\n",
        "def toNum(x, LOWER=True):\r\n",
        "    return ord(x.lower()) - 97\r\n",
        "\r\n",
        "def mod26(x):\r\n",
        "    return x % 26\r\n",
        "\r\n",
        "def toText(x, LOWER=True):\r\n",
        "    temp = 97 if LOWER else 65\r\n",
        "    return chr(x + temp)\r\n",
        "\r\n",
        "def encode(plaintext, key):\r\n",
        "    x = np.vectorize(toNum)(plaintext)\r\n",
        "    y = np.vectorize(mod26)(x@key)\r\n",
        "    ciphertext = np.vectorize(toText)(y, LOWER=False)\r\n",
        "    return ciphertext\r\n",
        "\r\n",
        "def decode(ciphertext, key):\r\n",
        "    def modInv(a, m): \r\n",
        "        a = a % m \r\n",
        "        for x in range(1, m): \r\n",
        "            if ((a * x) % m == 1): \r\n",
        "                return x\r\n",
        "        return 1\r\n",
        "\r\n",
        "    det = key[0,0] * key[1,1] - key[0,1] * key[1,0]\r\n",
        "    det_inv = modInv(det, 26)\r\n",
        "    new = np.array([[ key[1,1], -key[0,1]],\r\n",
        "                    [-key[1,0],  key[0,0]]])\r\n",
        "    inv = np.vectorize(mod26)(det_inv*new)\r\n",
        "\r\n",
        "    y = np.vectorize(toNum)(ciphertext, LOWER=False)\r\n",
        "    x = np.vectorize(mod26)(y@inv)\r\n",
        "    plaintext = np.vectorize(toText)(x)\r\n",
        "    return plaintext\r\n",
        "\r\n",
        "key = np.array([[3, 1],\r\n",
        "                [9, 2]])\r\n",
        "\r\n",
        "ciphertext = np.array([['N', 'T'],\r\n",
        "                       ['C', 'H']])\r\n",
        "\r\n",
        "decode(ciphertext, key)"
      ],
      "execution_count": 59,
      "outputs": [
        {
          "output_type": "execute_result",
          "data": {
            "text/plain": [
              "array([['f', 'u'],\n",
              "       ['l', 'l']], dtype='<U1')"
            ]
          },
          "metadata": {
            "tags": []
          },
          "execution_count": 59
        }
      ]
    }
  ]
}